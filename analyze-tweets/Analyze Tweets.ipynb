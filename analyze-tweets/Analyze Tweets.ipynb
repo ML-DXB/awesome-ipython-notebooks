{
 "cells": [
  {
   "cell_type": "markdown",
   "metadata": {},
   "source": [
    "# Understanding why people LOVE & HATE your brand or product.\n",
    "\n",
    "## Table of Content:\n",
    "1. Set Algorithmia & Twitter API Keys\n",
    "2. Search Twitter for a certain keyword.\n",
    "3. Run Social Sentiment Analysis on tweets\n",
    "4. Extract topics from tweets using LDA"
   ]
  },
  {
   "cell_type": "markdown",
   "metadata": {},
   "source": [
    "# 1. Set Algorithmia & Twitter API Keys"
   ]
  },
  {
   "cell_type": "code",
   "execution_count": 1,
   "metadata": {
    "collapsed": true
   },
   "outputs": [],
   "source": [
    "import Algorithmia\n",
    "import pprint\n",
    "from twython import Twython, TwythonError"
   ]
  },
  {
   "cell_type": "code",
   "execution_count": 2,
   "metadata": {
    "collapsed": true
   },
   "outputs": [],
   "source": [
    "Algorithmia.apiKey = 'simxxxxxxx'\n",
    "\n",
    "APP_KEY = 'xxxxxxx'\n",
    "APP_SECRET = 'xxxxxxx'\n",
    "OAUTH_TOKEN = 'xxxxxxx'\n",
    "OAUTH_TOKEN_SECRET = 'xxxxxxx'\n",
    "\n",
    "input = {\"query\":\"comcast\",\"numTweets\":500}\n",
    "\n",
    "pp = pprint.PrettyPrinter(indent=2)"
   ]
  },
  {
   "cell_type": "markdown",
   "metadata": {},
   "source": [
    "# 2. Search Twitter for a certain keyword."
   ]
  },
  {
   "cell_type": "code",
   "execution_count": 3,
   "metadata": {
    "collapsed": false
   },
   "outputs": [],
   "source": [
    "auth = {'app_key': APP_KEY, 'app_secret': APP_SECRET, 'oauth_token': OAUTH_TOKEN, 'oauth_token_secret': OAUTH_TOKEN_SECRET}\n",
    "twitter_input = {'query': input['query'], 'numTweets': int(input['numTweets']), 'auth': auth}\n",
    "\n",
    "all_tweets = Algorithmia.algo('twitter/RetrieveTweetsWithKeyword/0.1.0').pipe(twitter_input)"
   ]
  },
  {
   "cell_type": "markdown",
   "metadata": {},
   "source": [
    "# 3. Run Social Sentiment Analysis on tweets"
   ]
  },
  {
   "cell_type": "code",
   "execution_count": 4,
   "metadata": {
    "collapsed": false
   },
   "outputs": [],
   "source": [
    "tweet_reponses = []\n",
    "for tweet in all_tweets:\n",
    "    try:\n",
    "        tweet_reponses.append(Algorithmia.algo('nlp/SocialSentimentAnalysis/0.1.2').pipe(tweet)[0])\n",
    "    except Exception as e:\n",
    "        pass\n",
    "\n",
    "tweet_compound = map(lambda x: {'sentence': x['sentence'], 'compound': x['compound']}, tweet_reponses)\n",
    "\n",
    "tweet_compound.sort(key=lambda x: x['compound'], reverse=True)"
   ]
  },
  {
   "cell_type": "code",
   "execution_count": 5,
   "metadata": {
    "collapsed": true
   },
   "outputs": [],
   "source": [
    "coeff = int(0.2 * len(tweet_compound))\n",
    "\n",
    "# Get top 20% (positive) of tweets and disclude neutral tweets if needed\n",
    "pos_tweets = tweet_compound[:coeff]\n",
    "pos_tweets = filter(lambda x: float(x['compound']) != 0.0, pos_tweets)\n",
    "pos_tweets = map(lambda x: x['sentence'], pos_tweets)\n",
    "\n",
    "# Get bottom 20% (negative) of tweets and disclude neutral tweets if needed\n",
    "neg_tweets = tweet_compound[-coeff:]\n",
    "neg_tweets = filter(lambda x: float(x['compound']) != 0.0, neg_tweets)\n",
    "neg_tweets = map(lambda x: x['sentence'], neg_tweets)"
   ]
  },
  {
   "cell_type": "markdown",
   "metadata": {},
   "source": [
    "# 4. Extract topics from tweets using LDA"
   ]
  },
  {
   "cell_type": "code",
   "execution_count": 6,
   "metadata": {
    "collapsed": false
   },
   "outputs": [],
   "source": [
    "# Get LDA for positive tweets\n",
    "pos_input = {'docsList': pos_tweets, 'mode': 'smart'}\n",
    "pos_lda = Algorithmia.algo('nlp/LDA/0.1.0').pipe(pos_input)\n",
    "\n",
    "# Get LDA for negative tweets\n",
    "neg_input = {'docsList': neg_tweets, 'mode': 'smart'}\n",
    "neg_lda = Algorithmia.algo('nlp/LDA/0.1.0').pipe(neg_input)"
   ]
  },
  {
   "cell_type": "code",
   "execution_count": 7,
   "metadata": {
    "collapsed": false,
    "scrolled": true
   },
   "outputs": [
    {
     "name": "stdout",
     "output_type": "stream",
     "text": [
      "[ { u'account': 3,\n",
      "    u'awarded': 2,\n",
      "    u'comcast': 4,\n",
      "    u'details': 3,\n",
      "    u'experience': 3,\n",
      "    u'house': 2,\n",
      "    u'https://t.co': 3,\n",
      "    u'liz': 3},\n",
      "  { u'awesome': 6,\n",
      "    u'blizzard': 6,\n",
      "    u'comcast': 15,\n",
      "    u'hackathon': 4,\n",
      "    u'pennapps': 4,\n",
      "    u'ride': 4,\n",
      "    u'snowy': 4,\n",
      "    u'weekend': 6},\n",
      "  { u'comcast': 23,\n",
      "    u'customer': 5,\n",
      "    u'good': 4,\n",
      "    u'great': 6,\n",
      "    u'https://t.co/mrljt': 3,\n",
      "    u'internet': 10,\n",
      "    u'service': 5,\n",
      "    u'zfcc': 3},\n",
      "  { u'american': 16,\n",
      "    u'comcast': 21,\n",
      "    u'great': 17,\n",
      "    u'hsgshrtl': 15,\n",
      "    u'https://t.co/j': 15,\n",
      "    u'nra': 32,\n",
      "    u'phillymag': 16,\n",
      "    u'show': 17}]\n"
     ]
    }
   ],
   "source": [
    "pp.pprint(pos_lda)"
   ]
  },
  {
   "cell_type": "code",
   "execution_count": 8,
   "metadata": {
    "collapsed": false
   },
   "outputs": [
    {
     "name": "stdout",
     "output_type": "stream",
     "text": [
      "[ { u'annoying': 3,\n",
      "    u'bad': 5,\n",
      "    u'comcast': 24,\n",
      "    u'customer': 5,\n",
      "    u'home': 3,\n",
      "    u'service': 13,\n",
      "    u'waiting': 4,\n",
      "    u'worst': 4},\n",
      "  { u'comcast': 23,\n",
      "    u'customers': 11,\n",
      "    u'disabled': 11,\n",
      "    u'disconnect': 11,\n",
      "    u'hardship': 11,\n",
      "    u'medical': 11,\n",
      "    u'physically': 11,\n",
      "    u'protection': 11},\n",
      "  { u'actress': 13,\n",
      "    u'james': 13,\n",
      "    u'l.a': 11,\n",
      "    u'lily': 13,\n",
      "    u'pose': 13,\n",
      "    u'prejudice': 13,\n",
      "    u'pride': 13,\n",
      "    u'strikes': 13},\n",
      "  { u'america': 3,\n",
      "    u'comcast': 16,\n",
      "    u'fix': 3,\n",
      "    u'fuck': 3,\n",
      "    u'hate': 4,\n",
      "    u'nra': 6,\n",
      "    u'phone': 3,\n",
      "    u'shit': 6}]\n"
     ]
    }
   ],
   "source": [
    "pp.pprint(neg_lda)"
   ]
  }
 ],
 "metadata": {
  "kernelspec": {
   "display_name": "Python 2",
   "language": "python",
   "name": "python2"
  },
  "language_info": {
   "codemirror_mode": {
    "name": "ipython",
    "version": 2
   },
   "file_extension": ".py",
   "mimetype": "text/x-python",
   "name": "python",
   "nbconvert_exporter": "python",
   "pygments_lexer": "ipython2",
   "version": "2.7.11"
  }
 },
 "nbformat": 4,
 "nbformat_minor": 0
}
